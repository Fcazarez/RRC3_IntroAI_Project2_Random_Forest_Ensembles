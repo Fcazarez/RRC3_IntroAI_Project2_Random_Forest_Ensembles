{
  "nbformat": 4,
  "nbformat_minor": 0,
  "metadata": {
    "colab": {
      "provenance": [],
      "toc_visible": true,
      "include_colab_link": true
    },
    "kernelspec": {
      "name": "python3",
      "display_name": "Python 3"
    },
    "language_info": {
      "name": "python"
    }
  },
  "cells": [
    {
      "cell_type": "markdown",
      "metadata": {
        "id": "view-in-github",
        "colab_type": "text"
      },
      "source": [
        "<a href=\"https://colab.research.google.com/github/Fcazarez/RRC_Intro_AI_Project2/blob/main/Copy_of_Project2_Intro_AI_Random_Forest_Ensembles.ipynb\" target=\"_parent\"><img src=\"https://colab.research.google.com/assets/colab-badge.svg\" alt=\"Open In Colab\"/></a>"
      ]
    },
    {
      "cell_type": "markdown",
      "source": [
        "# **COMP-3703 (241551) Introduction to Artificial Intelligence**\n",
        "# **Project 2 - Random Forests and Ensembles**\n",
        "# **Felix Cazarez**\n"
      ],
      "metadata": {
        "id": "Ldwar1ImiNog"
      }
    },
    {
      "cell_type": "markdown",
      "source": [
        "**Objective:**\n",
        "* The goal of the project is to successfully train and test\n",
        "* a random forest,\n",
        "* compare it to a decision tree and\n",
        "* knn classifier.\n",
        "* Also to train a simple stacking ensemble using a dt,\n",
        "* knn and\n",
        "* svm as base learners and\n",
        "* a random forest as the meta-model.\n",
        "\n",
        "**Instructions:**\n",
        "\n",
        "* From the Caltech-UCSD CUB-200-2011 data set you will need image_attribute_labels.txt and image_class_labels.txt they can be found at the following links:\n",
        "\n",
        "* http://www.vision.caltech.edu/datasets/cub_200_2011/\n",
        "* https://drive.google.com/drive/folders/1kFzIqZL_pEBVR7Ca_8IKibfWoeZc3GT1\n"
      ],
      "metadata": {
        "id": "HZ8u38hAdmqF"
      }
    },
    {
      "cell_type": "markdown",
      "source": [
        "# **Task 1: Data Preprocessing**\n",
        "* A correspondence should set up between the attributes and the labels. The aim is to set up a structure where each image's attributes can be related to its label.\n",
        "\n",
        "By the end, there are separate numpy arrays for training/testing attributes and their corresponding labels.\n",
        "\n",
        "In other words, your code takes two separate data sources – one with image attributes and the other with image labels – and processes them to form training and testing datasets where machine learning algorithms can learn the relationship between attributes and their corresponding labels."
      ],
      "metadata": {
        "id": "dacsPhqRd3rJ"
      }
    },
    {
      "cell_type": "markdown",
      "source": [
        "## **1.1 The Data:**\n",
        "\n",
        "* The first file \"image_attribute_labels.txt\" contains information about image attributes. It is read with space as a delimiter(‘\\s+)\n",
        "* Only the first three columns should be loaded (‘igid’,’attid’,’present’)\n",
        "* The second file “image_class_labels.txt” has class labels for the image. It is read with space delimeter too.\n",
        "* Output the heads of both files, and the file sizes/shapes. Discuss contents in detail."
      ],
      "metadata": {
        "id": "1AsaErePeSuC"
      }
    },
    {
      "cell_type": "markdown",
      "source": [
        "## **1.2 Handling Bad Entries:**\n",
        "* Occasionally, files may contain corrupted or wrongly formatted lines. We use the on_bad_lines='skip' argument to ensure such lines are skipped during loading.\n",
        "* Use the pandas library to load the two text files, image_attribute_labels.txt and image_class_labels.txt. Name them imgatt, and imglabels, respectively.\n",
        "* Always inspect the loaded data using methods like head(), info(), or describe() to understand its structure and to identify any inconsistencies.\n",
        "* Output shape, and head of the image attributes"
      ],
      "metadata": {
        "id": "yK4ankPI8o5F"
      }
    },
    {
      "cell_type": "code",
      "source": [
        "#Importing libraries:\n",
        "import matplotlib.pyplot as plt\n",
        "import numpy as np\n",
        "import pandas as pd\n",
        "import seaborn as sns\n",
        "\n",
        "from mpl_toolkits.mplot3d import Axes3D\n",
        "from sklearn.ensemble import RandomForestClassifier\n",
        "from sklearn.metrics import accuracy_score, confusion_matrix\n",
        "\n",
        "from sklearn.model_selection import ( train_test_split,\n",
        "                                      cross_val_score,\n",
        "                                      GridSearchCV\n",
        "                                    )\n",
        "from sklearn.neighbors import KNeighborsClassifier\n",
        "from sklearn.svm import SVC\n",
        "from sklearn.tree import DecisionTreeClassifier\n",
        "from tabulate import tabulate"
      ],
      "metadata": {
        "id": "8-8vejn8uus5"
      },
      "execution_count": null,
      "outputs": []
    },
    {
      "cell_type": "code",
      "source": [
        "#!pip install --upgrade google-colab"
      ],
      "metadata": {
        "id": "cm3UaG0iWM31"
      },
      "execution_count": null,
      "outputs": []
    },
    {
      "cell_type": "code",
      "source": [
        "#folder was downloaded and uploaded to my gdrive to be recovered here in this notebook with python\n",
        "from google.colab import drive\n",
        "drive.mount('/content/gdrive', force_remount= True)"
      ],
      "metadata": {
        "id": "_7vgr113JfCL",
        "colab": {
          "base_uri": "https://localhost:8080/"
        },
        "outputId": "5f231c36-0d64-4a6e-f47a-8bfc1c8f5793"
      },
      "execution_count": null,
      "outputs": [
        {
          "output_type": "stream",
          "name": "stdout",
          "text": [
            "Mounted at /content/gdrive\n"
          ]
        }
      ]
    },
    {
      "cell_type": "code",
      "source": [
        "# Define the base directory\n",
        "base_directory = '/content/gdrive/MyDrive/Colab Notebooks/CUB_200_2011/'\n",
        "\n",
        "# Define file paths\n",
        "path_image_attr_abels = f'{base_directory}attributes/image_attribute_labels.txt'\n",
        "path_class_labels = f'{base_directory}image_class_labels.txt'\n"
      ],
      "metadata": {
        "id": "deqcYeY0aG2S"
      },
      "execution_count": null,
      "outputs": []
    },
    {
      "cell_type": "code",
      "source": [
        "\n",
        "# Read the first file (image attributes)\n",
        "imgatt = pd.read_csv(path_image_attr_abels, sep='\\s+', usecols=[0, 1, 2], on_bad_lines='skip', names=[\"imgid\", \"attid\", \"present\"])\n"
      ],
      "metadata": {
        "id": "tKolShd7Xx7V"
      },
      "execution_count": null,
      "outputs": []
    },
    {
      "cell_type": "code",
      "source": [
        "# Display the first few rows of the image attributes DataFrame\n",
        "print(\"=\" * 30 + \" Attributes \" + \"=\" * 30)\n",
        "\n",
        "print(\"Shape of image_attribute_labels.txt :\", imgatt.shape)\n",
        "print(\" Head \" + \"=\" * 30)\n",
        "print(\"head of the data:\", imgatt.head())\n",
        "print(\" Describe \" + \"=\" * 30)\n",
        "print(imgatt.describe().round(2))"
      ],
      "metadata": {
        "id": "xP6rsNpkb6r4",
        "outputId": "c2858609-0618-4015-e1c1-5abd963ed28a",
        "colab": {
          "base_uri": "https://localhost:8080/"
        }
      },
      "execution_count": null,
      "outputs": [
        {
          "output_type": "stream",
          "name": "stdout",
          "text": [
            "============================== Attributes ==============================\n",
            "Shape of image_attribute_labels.txt : (3677856, 3)\n",
            " Head ==============================\n",
            "head of the data:    imgid  attid  present\n",
            "0      1      1        0\n",
            "1      1      2        0\n",
            "2      1      3        0\n",
            "3      1      4        0\n",
            "4      1      5        1\n",
            " Describe ==============================\n",
            "            imgid       attid    present\n",
            "count  3677856.00  3677856.00  3677856.0\n",
            "mean      5894.50      156.50        0.1\n",
            "std       3402.90       90.07        0.3\n",
            "min          1.00        1.00        0.0\n",
            "25%       2947.75       78.75        0.0\n",
            "50%       5894.50      156.50        0.0\n",
            "75%       8841.25      234.25        0.0\n",
            "max      11788.00      312.00        1.0\n"
          ]
        }
      ]
    },
    {
      "cell_type": "code",
      "source": [
        "\n",
        "# Read the second file (class labels)\n",
        "imglabels = pd.read_csv(path_class_labels, header=None, sep='\\s+', on_bad_lines='skip', names=[\"imgid\", \"classid\"])"
      ],
      "metadata": {
        "id": "3t-FgSNPYkPy"
      },
      "execution_count": null,
      "outputs": []
    },
    {
      "cell_type": "code",
      "source": [
        "# Display the first few rows of the class labels DataFrame\n",
        "print(\"=\" * 30 + \" Labels \" + \"=\" * 30)\n",
        "print(\"Shape of image_class_labels.txt :\", imglabels.shape)\n",
        "print(\" Head \" + \"=\" * 30)\n",
        "print(imglabels.head())\n",
        "print(\" Describe \" + \"=\" * 30)\n",
        "print(imglabels.describe().round(2))"
      ],
      "metadata": {
        "colab": {
          "base_uri": "https://localhost:8080/"
        },
        "id": "C8PzY9RNv1wI",
        "outputId": "8fca56e5-d80a-476b-9c45-5cf3ece2ac86"
      },
      "execution_count": null,
      "outputs": [
        {
          "output_type": "stream",
          "name": "stdout",
          "text": [
            "============================== Labels ==============================\n",
            "Shape of image_class_labels.txt : (11788, 2)\n",
            " Head ==============================\n",
            "   imgid  classid\n",
            "0      1        1\n",
            "1      2        1\n",
            "2      3        1\n",
            "3      4        1\n",
            "4      5        1\n",
            " Describe ==============================\n",
            "          imgid   classid\n",
            "count  11788.00  11788.00\n",
            "mean    5894.50    101.13\n",
            "std     3403.05     57.48\n",
            "min        1.00      1.00\n",
            "25%     2947.75     51.00\n",
            "50%     5894.50    101.00\n",
            "75%     8841.25    151.00\n",
            "max    11788.00    200.00\n"
          ]
        }
      ]
    },
    {
      "cell_type": "markdown",
      "source": [
        "**Comments:**\n",
        "\n",
        "**Attributes:**\n",
        "\n",
        "* Shape of the image_attribute_labels.txt file: (3677856, 3)\n",
        "* The dataset contains a large number of records (3677856).\n",
        "* The present column indicates whether a specific attribute is present (1) or not (0) for an image.\n",
        "* The dataset is quite sparse, with a mean of 0.1 and a standard deviation of 0.3.\n",
        "* This suggests that most attributes are not present in the images.\n",
        "\n",
        "For the attributes, it appears that the majority of attributes are not present in the images, as indicated by the low mean value and high standard deviation.\n",
        "\n",
        "**Labels:**\n",
        "\n",
        "* Shape of the image_class_labels.txt file: (11788, 2)\n",
        "* There are 11788 unique images in the dataset.\n",
        "* The class labels range from 1 to 200, and the mean class label is approximately 101.13.\n",
        "* The dataset is relatively evenly distributed among classes, with a minimum class label of 1 and a maximum of 200.\n",
        "\n",
        "For the labels, the dataset contains a diverse set of images distributed across 200 classes, with a relatively even distribution among classes."
      ],
      "metadata": {
        "id": "BXZ6y1A45t15"
      }
    },
    {
      "cell_type": "code",
      "source": [
        "# Check  duplicate\n",
        "imgatt.drop_duplicates(inplace=True)\n",
        "imglabels.drop_duplicates(inplace=True)\n",
        "print(\"=\" * 30 + \" Attributes \" + \"=\" * 30)\n",
        "print(imgatt.info())\n",
        "print(\"=\" * 30 + \" Labels \" + \"=\" * 30)\n",
        "print(imglabels.info())"
      ],
      "metadata": {
        "id": "32t5hSz7zE4C",
        "colab": {
          "base_uri": "https://localhost:8080/"
        },
        "outputId": "76b5f411-13fb-43b7-f6b5-dd52c9983202"
      },
      "execution_count": null,
      "outputs": [
        {
          "output_type": "stream",
          "name": "stdout",
          "text": [
            "============================== Attributes ==============================\n",
            "<class 'pandas.core.frame.DataFrame'>\n",
            "Int64Index: 3677856 entries, 0 to 3677855\n",
            "Data columns (total 3 columns):\n",
            " #   Column   Dtype\n",
            "---  ------   -----\n",
            " 0   imgid    int64\n",
            " 1   attid    int64\n",
            " 2   present  int64\n",
            "dtypes: int64(3)\n",
            "memory usage: 112.2 MB\n",
            "None\n",
            "============================== Labels ==============================\n",
            "<class 'pandas.core.frame.DataFrame'>\n",
            "Int64Index: 11788 entries, 0 to 11787\n",
            "Data columns (total 2 columns):\n",
            " #   Column   Non-Null Count  Dtype\n",
            "---  ------   --------------  -----\n",
            " 0   imgid    11788 non-null  int64\n",
            " 1   classid  11788 non-null  int64\n",
            "dtypes: int64(2)\n",
            "memory usage: 276.3 KB\n",
            "None\n"
          ]
        }
      ]
    },
    {
      "cell_type": "markdown",
      "source": [
        "## **1.3 Data Transformation:**\n",
        "* The data from image_attribute_labels.txt needs to be transformed from a long format to a wide format.\n",
        "* The pivot method in pandas will help transform the data such that each image ID has all the attributes associated with it in separate columns.\n",
        "* Make sure there are no duplicates or pivot will give you an error.\n",
        "* Name this imgatt2.\n",
        "* Output the head of the new arrangement; and the number of rows and columns"
      ],
      "metadata": {
        "id": "F38qqw_WI-0V"
      }
    },
    {
      "cell_type": "code",
      "source": [
        "# Pivot the data to wide format\n",
        "#This code uses the .pivot() method from the pandas library to transform the imgatt DataFrame from a long format to a wide format.\n",
        "#The index parameter specifies that the 'imgid' column should be used as the index (rows) in the new DataFrame.\n",
        "#The columns parameter specifies that the 'attid' column values should be used as columns in the new DataFrame.\n",
        "#The values parameter specifies that the 'present' column values should be placed in the corresponding cells of the new DataFrame.\n",
        "imgatt2 = imgatt.pivot(index='imgid', columns='attid', values='present')\n",
        "\n",
        "# Output the head of the new arrangement\n",
        "print(\"=\" * 30 + \" Attributes 2 (wide format) \" + \"=\" * 30)\n",
        "print(imgatt2.head())\n",
        "\n",
        "# Number of rows and columns\n",
        "num_rows, num_columns = imgatt2.shape\n",
        "print(f\"Number of rows: {num_rows}\")\n",
        "print(f\"Number of columns: {num_columns}\")\n"
      ],
      "metadata": {
        "id": "QMPXwsBfAWQP",
        "outputId": "7b224ffe-a3e1-4900-ff7a-99f2ac4083ac",
        "colab": {
          "base_uri": "https://localhost:8080/"
        }
      },
      "execution_count": null,
      "outputs": [
        {
          "output_type": "stream",
          "name": "stdout",
          "text": [
            "============================== Attributes 2 (wide format) ==============================\n",
            "attid  1    2    3    4    5    6    7    8    9    10   ...  303  304  305  \\\n",
            "imgid                                                    ...                  \n",
            "1        0    0    0    0    1    0    0    0    0    0  ...    0    0    0   \n",
            "2        0    0    0    0    0    0    0    0    0    0  ...    0    0    0   \n",
            "3        0    0    0    0    1    0    0    0    0    0  ...    0    0    0   \n",
            "4        0    0    0    0    1    0    0    0    0    0  ...    0    0    0   \n",
            "5        0    0    0    0    1    0    0    0    0    0  ...    0    0    1   \n",
            "\n",
            "attid  306  307  308  309  310  311  312  \n",
            "imgid                                     \n",
            "1        0    0    1    0    0    0    0  \n",
            "2        0    0    0    0    0    0    0  \n",
            "3        0    0    1    0    0    1    0  \n",
            "4        1    0    0    1    0    0    0  \n",
            "5        0    0    0    0    0    0    0  \n",
            "\n",
            "[5 rows x 312 columns]\n",
            "Number of rows: 11788\n",
            "Number of columns: 312\n"
          ]
        }
      ]
    },
    {
      "cell_type": "code",
      "source": [
        "# Check duplicates\n",
        "imgatt2.drop_duplicates(inplace=True)\n",
        "imglabels.drop_duplicates(inplace=True)"
      ],
      "metadata": {
        "id": "PnCyP83uzjrO"
      },
      "execution_count": null,
      "outputs": []
    },
    {
      "cell_type": "code",
      "source": [
        "# Check Nan\n",
        "imgatt2.dropna(inplace=True)\n",
        "imglabels.dropna(inplace=True)"
      ],
      "metadata": {
        "id": "xdqDdhr04jcC"
      },
      "execution_count": null,
      "outputs": []
    },
    {
      "cell_type": "code",
      "source": [
        "print(imgatt2.info())\n",
        "print(imglabels.info())"
      ],
      "metadata": {
        "id": "-155PLvJCPge",
        "outputId": "cb6a45ea-fbdf-4d35-a6a0-b3fea5c94156",
        "colab": {
          "base_uri": "https://localhost:8080/"
        }
      },
      "execution_count": null,
      "outputs": [
        {
          "output_type": "stream",
          "name": "stdout",
          "text": [
            "<class 'pandas.core.frame.DataFrame'>\n",
            "Int64Index: 11757 entries, 1 to 11788\n",
            "Columns: 312 entries, 1 to 312\n",
            "dtypes: int64(312)\n",
            "memory usage: 28.1 MB\n",
            "None\n",
            "<class 'pandas.core.frame.DataFrame'>\n",
            "Int64Index: 11788 entries, 0 to 11787\n",
            "Data columns (total 2 columns):\n",
            " #   Column   Non-Null Count  Dtype\n",
            "---  ------   --------------  -----\n",
            " 0   imgid    11788 non-null  int64\n",
            " 1   classid  11788 non-null  int64\n",
            "dtypes: int64(2)\n",
            "memory usage: 276.3 KB\n",
            "None\n"
          ]
        }
      ]
    },
    {
      "cell_type": "markdown",
      "source": [
        "## **1.4 Data Merging and Shuffle:**\n",
        "* Set your imglabels data index to “imgid\"\n",
        "* Merge the two dataframes on a common column, \"imgid\" to create a new dataframe\n",
        "* Randomly shuffle your dataframe using .sample with frac=1, and random_state=10. (I want this reproducible)\n",
        "* Split your new dataframe into attributes and labels where your attributes contains all columns but the last. Your labels contain only the last column.\n",
        "* Using .iloc is useful here as it preserves indexing.\n",
        "* Convert to a numpy arrays\n",
        "* Flatten your labels"
      ],
      "metadata": {
        "id": "0tWemrisJG9K"
      }
    },
    {
      "cell_type": "code",
      "source": [
        "random_seed = 42\n",
        "np.random.seed(random_seed) # this seed make it reproductible\n",
        "\n",
        "# Set the index for imglabels data to \"imgid\"\n",
        "imglabels.set_index(\"imgid\", inplace=True)\n",
        "\n",
        "# Merge the two dataframes using the column \"imgid\"\n",
        "merged_df = pd.merge(imgatt2, imglabels, on=\"imgid\")\n",
        "\n",
        "# Randomly shuffle the df\n",
        "shuffled_data = merged_df.sample(frac=1, random_state=random_seed)  # Use the same seed\n",
        "\n",
        "# Split df into attributes and labels\n",
        "attributes = shuffled_data.iloc[:, :-1]\n",
        "labels = shuffled_data.iloc[:, -1]\n",
        "\n",
        "# Convert to numpy arrays\n",
        "attributes_np_array = attributes.values\n",
        "labels_np_array = labels.values\n",
        "\n",
        "# Flatten the labels\n",
        "labels_flatten = labels_np_array.flatten()\n",
        "\n",
        "print(\"Shape of attributes_array:\", attributes_np_array.shape)\n",
        "print(\"Shape of labels_array:\", labels_flatten.shape)\n"
      ],
      "metadata": {
        "id": "_ktwEPQV0B2v",
        "colab": {
          "base_uri": "https://localhost:8080/"
        },
        "outputId": "aeb439dc-a779-4de3-ae1c-3ee943893a39"
      },
      "execution_count": null,
      "outputs": [
        {
          "output_type": "stream",
          "name": "stdout",
          "text": [
            "Shape of attributes_array: (11757, 312)\n",
            "Shape of labels_array: (11757,)\n"
          ]
        }
      ]
    },
    {
      "cell_type": "markdown",
      "source": [
        "# **2. Training and Testing Sets**\n",
        "* Create your training and testing sets."
      ],
      "metadata": {
        "id": "ob0TNalMJMKy"
      }
    },
    {
      "cell_type": "code",
      "source": [
        "# We will use the train_test_split function from sklearn to split our data into training and testing sets.\n",
        "# We are reserving 20% of the data for testing.\n",
        "# The random_state parameter ensures that the splits generate are reproducible.\n",
        "X_train, X_test, y_train, y_test = train_test_split(attributes_np_array, labels_flatten, test_size=0.2, random_state=42)\n",
        "\n",
        "# Let's print the shapes of our training and testing sets to verify everything is as expected.\n",
        "print(\"Training and testing set split successful!\")\n",
        "print(f\"Shape of X_train (training data): {X_train.shape}\")\n",
        "print(f\"Shape of X_test (testing data): {X_test.shape}\")\n",
        "print(f\"Shape of y_train (training labels): {y_train.shape}\")\n",
        "print(f\"Shape of y_test (testing labels): {y_test.shape}\")\n"
      ],
      "metadata": {
        "id": "awmYidwb3qpT",
        "colab": {
          "base_uri": "https://localhost:8080/"
        },
        "outputId": "3c1d776f-1c21-4af7-f037-81f850d9b5b8"
      },
      "execution_count": null,
      "outputs": [
        {
          "output_type": "stream",
          "name": "stdout",
          "text": [
            "Training and testing set split successful!\n",
            "Shape of X_train (training data): (9405, 312)\n",
            "Shape of X_test (testing data): (2352, 312)\n",
            "Shape of y_train (training labels): (9405,)\n",
            "Shape of y_test (testing labels): (2352,)\n"
          ]
        }
      ]
    },
    {
      "cell_type": "markdown",
      "source": [
        "# **3.Random Forest Classifier:**\n",
        "* Implement a Random Forest classifier. With max features=15, and 25 trees.\n",
        "* Train the classifier on the training data and test its performance on the testing data.\n",
        "* Print the training and testing accuracies. What do the scores suggest?"
      ],
      "metadata": {
        "id": "Sjbvtpml38zd"
      }
    },
    {
      "cell_type": "code",
      "source": [
        "# Create a Random Forest classifier with specific parameters\n",
        "rf_classifier = RandomForestClassifier(max_features=15, n_estimators=25, random_state=42)\n",
        "\n",
        "# Train the classifier on the training data\n",
        "rf_classifier.fit(X_train, y_train)\n",
        "\n",
        "# Predict labels on both the training and testing data\n",
        "y_train_pred = rf_classifier.predict(X_train)\n",
        "y_test_pred = rf_classifier.predict(X_test)\n",
        "\n",
        "# Calculate training and testing accuracies\n",
        "train_accuracy = accuracy_score(y_train, y_train_pred)\n",
        "test_accuracy = accuracy_score(y_test, y_test_pred)\n",
        "\n",
        "# Print the results\n",
        "print(\"Training Accuracy:\", train_accuracy)\n",
        "print(\"Testing Accuracy:\", test_accuracy)\n"
      ],
      "metadata": {
        "colab": {
          "base_uri": "https://localhost:8080/"
        },
        "id": "aJNe6DIe4bJP",
        "outputId": "367ef12a-4968-4a45-ca63-a82335486464"
      },
      "execution_count": null,
      "outputs": [
        {
          "output_type": "stream",
          "name": "stdout",
          "text": [
            "Training Accuracy: 1.0\n",
            "Testing Accuracy: 0.383078231292517\n"
          ]
        }
      ]
    },
    {
      "cell_type": "markdown",
      "source": [
        "**Comments:**\n",
        "\n",
        "The model is overfited, the training accurracy is quite better than the testng accurracy."
      ],
      "metadata": {
        "id": "EDFZoKkU5VMy"
      }
    },
    {
      "cell_type": "markdown",
      "source": [
        "# **4. Confusion Matrix:**\n",
        "* Generate a confusion matrix for the Random Forest classifier's predictions on the test data.\n",
        "* Visualize this matrix (you may need to implement or use a utility function for visualization)."
      ],
      "metadata": {
        "id": "mJid-RvqJTXs"
      }
    },
    {
      "cell_type": "code",
      "source": [
        "# Generate the confusion matrix\n",
        "conf_matrix = confusion_matrix(y_test, y_test_pred)\n",
        "\n",
        "# Create a heatmap for visualization\n",
        "plt.figure(figsize=(8, 6))\n",
        "sns.heatmap(conf_matrix, annot=True, fmt='d', cmap='Blues', xticklabels=True, yticklabels=True)\n",
        "plt.xlabel('Predicted Labels')\n",
        "plt.ylabel('True Labels')\n",
        "plt.title('Confusion Matrix')\n",
        "plt.show()\n"
      ],
      "metadata": {
        "colab": {
          "base_uri": "https://localhost:8080/",
          "height": 577
        },
        "id": "6c5xHO1x8_Y1",
        "outputId": "ed3c8fb8-06a1-488e-ea5d-8a329286a1e1"
      },
      "execution_count": null,
      "outputs": [
        {
          "output_type": "display_data",
          "data": {
            "text/plain": [
              "<Figure size 800x600 with 2 Axes>"
            ],
            "image/png": "[encoded data removed]"
          },
          "metadata": {}
        }
      ]
    },
    {
      "cell_type": "markdown",
      "source": [
        "**Confusion Matrix Comments:**\n",
        "\n",
        "* The top-left cell (element 0,0) represents the count of True Negatives (TN).\n",
        "* The top-right cell (element 0,1) represents the count of False Positives (FP).\n",
        "* The bottom-left cell (element 1,0) represents the count of False Negatives (FN).\n",
        "* The bottom-right cell (element 1,1) represents the count of True Positives (TP).\n",
        "\n",
        "The \"line\" appearance suggests that the model is making mostly correct predictions. The dark background may be due to the color map choice and indicates higher counts in the True Positive and True Negative cells, which is a positive sign as these are the correctly classified instances. The combination of these factors shows that the model is performing well on the test data."
      ],
      "metadata": {
        "id": "BnoPZOoSNCi7"
      }
    },
    {
      "cell_type": "markdown",
      "source": [
        "# **5.Model Comparisons:**\n",
        "* KNN:\n",
        "  - Implement a K-Nearest Neighbors (KNN) classifier.\n",
        "  - Train and test the KNN model.\n",
        "  - Output the test results.\n",
        "* Decision Tree:\n",
        "  - Implement a Decision Tree classifier.\n",
        "  - Train and test the Decision Tree model.\n",
        "  - Output the test results.\n",
        "* Compare the performance of the Random Forest, KNN, and Decision Tree models and report their accuracies."
      ],
      "metadata": {
        "id": "a43IO-rbJXWL"
      }
    },
    {
      "cell_type": "code",
      "source": [
        "# find the best k to put in the model (values from 1 to 29)\n",
        "k_values = list(range(1, 30))\n",
        "\n",
        "mean_accuracy_scores = []\n",
        "\n",
        "for k in k_values:\n",
        "    knn_classifier = KNeighborsClassifier(n_neighbors=k)\n",
        "\n",
        "    #  cross-validation with 5 folds\n",
        "    scores = cross_val_score(knn_classifier, X_train, y_train, cv=5, scoring='accuracy')\n",
        "\n",
        "    mean_accuracy = scores.mean()\n",
        "\n",
        "    mean_accuracy_scores.append(mean_accuracy)\n",
        "\n",
        "best_k = k_values[mean_accuracy_scores.index(max(mean_accuracy_scores))]\n",
        "\n",
        "print(\"Best k:\", best_k)\n"
      ],
      "metadata": {
        "colab": {
          "base_uri": "https://localhost:8080/"
        },
        "id": "lG539JS75uqK",
        "outputId": "b43fd58e-87dc-451a-a9a1-ae68ef841c7f"
      },
      "execution_count": null,
      "outputs": [
        {
          "output_type": "stream",
          "name": "stdout",
          "text": [
            "Best k: 14\n"
          ]
        }
      ]
    },
    {
      "cell_type": "code",
      "source": [
        "results_bestk = pd.DataFrame({'k': k_values, 'Mean Accuracy': mean_accuracy_scores})\n",
        "\n",
        "print(results_bestk)"
      ],
      "metadata": {
        "colab": {
          "base_uri": "https://localhost:8080/"
        },
        "id": "j-xpK_DL9PlL",
        "outputId": "6e16579f-9014-43ee-e520-68b6d176d5c2"
      },
      "execution_count": null,
      "outputs": [
        {
          "output_type": "stream",
          "name": "stdout",
          "text": [
            "     k  Mean Accuracy\n",
            "0    1       0.305190\n",
            "1    2       0.280520\n",
            "2    3       0.290835\n",
            "3    4       0.303276\n",
            "4    5       0.315185\n",
            "5    6       0.319120\n",
            "6    7       0.326457\n",
            "7    8       0.324649\n",
            "8    9       0.326990\n",
            "9   10       0.326776\n",
            "10  11       0.328265\n",
            "11  12       0.326246\n",
            "12  13       0.328584\n",
            "13  14       0.330923\n",
            "14  15       0.327308\n",
            "15  16       0.327095\n",
            "16  17       0.327202\n",
            "17  18       0.324863\n",
            "18  19       0.326245\n",
            "19  20       0.321885\n",
            "20  21       0.321885\n",
            "21  22       0.322204\n",
            "22  23       0.321035\n",
            "23  24       0.323373\n",
            "24  25       0.319227\n",
            "25  26       0.320502\n",
            "26  27       0.320609\n",
            "27  28       0.317631\n",
            "28  29       0.319864\n"
          ]
        }
      ]
    },
    {
      "cell_type": "code",
      "source": [
        "# model KNN  with k = 14, defined as a best k in the code before\n",
        "knn_classifier = KNeighborsClassifier(n_neighbors=14)\n",
        "\n",
        "# train the KNN\n",
        "knn_classifier.fit(X_train, y_train)\n",
        "\n",
        "# run the KNN with testing data\n",
        "y_train_pred_knn = knn_classifier.predict(X_train)\n",
        "y_test_pred_knn = knn_classifier.predict(X_test)\n",
        "\n",
        "\n",
        "#  training and testing accuracies\n",
        "train_accuracy_knn = accuracy_score(y_train, y_train_pred_knn)\n",
        "test_accuracy_knn = accuracy_score(y_test, y_test_pred_knn)\n"
      ],
      "metadata": {
        "id": "CybQ-YVl9iSS"
      },
      "execution_count": null,
      "outputs": []
    },
    {
      "cell_type": "code",
      "source": [
        "print(\"Training Accuracy knn:\", train_accuracy_knn)\n",
        "print(\"Testing Accuracy knn:\", test_accuracy_knn)"
      ],
      "metadata": {
        "colab": {
          "base_uri": "https://localhost:8080/"
        },
        "id": "CxNkFAZ4-QTs",
        "outputId": "410e2ffa-18e3-4669-ebbb-fc08bc933142"
      },
      "execution_count": null,
      "outputs": [
        {
          "output_type": "stream",
          "name": "stdout",
          "text": [
            "Training Accuracy knn: 0.45714589536367506\n",
            "Testing Accuracy knn: 0.3307823129251701\n"
          ]
        }
      ]
    },
    {
      "cell_type": "markdown",
      "source": [
        "### Decision Tree"
      ],
      "metadata": {
        "id": "25gulhxl-h_K"
      }
    },
    {
      "cell_type": "code",
      "source": [
        "# model without hyperparameters\n",
        "decision_tree_classifier = DecisionTreeClassifier(random_state=42)\n",
        "\n",
        "# traning\n",
        "decision_tree_classifier.fit(X_train, y_train)\n",
        "\n",
        "# run the decision tree with testing data\n",
        "y_train_pred_dt = decision_tree_classifier.predict(X_train)\n",
        "y_test_pred_dt = decision_tree_classifier.predict(X_test)\n",
        "\n",
        "#  training and testing accuracies\n",
        "train_accuracy_dt = accuracy_score(y_train, y_train_pred_dt)\n",
        "test_accuracy_dt = accuracy_score(y_test, y_test_pred_dt)"
      ],
      "metadata": {
        "id": "Dk_bmJB7-jgF"
      },
      "execution_count": null,
      "outputs": []
    },
    {
      "cell_type": "code",
      "source": [
        "print(\"Training Accuracy dt:\", train_accuracy_dt)\n",
        "print(\"Testing Accuracy dt:\", test_accuracy_dt)"
      ],
      "metadata": {
        "colab": {
          "base_uri": "https://localhost:8080/"
        },
        "id": "ATfoZZy1_lex",
        "outputId": "17b4f366-8ff8-4ba0-c122-5b618f20b217"
      },
      "execution_count": null,
      "outputs": [
        {
          "output_type": "stream",
          "name": "stdout",
          "text": [
            "Training Accuracy dt: 1.0\n",
            "Testing Accuracy dt: 0.2699829931972789\n"
          ]
        }
      ]
    },
    {
      "cell_type": "code",
      "source": [
        "max_depth_values = [5, 10, 15]\n",
        "min_samples_split_values = [2, 5, 10]\n",
        "min_samples_leaf_values = [1, 2, 4]\n",
        "\n",
        "results_all_dt = pd.DataFrame(columns=[\"max_depth\", \"min_samples_split\", \"min_samples_leaf\", \"Train Accuracy\", \"Test Accuracy\"])\n",
        "\n",
        "for max_depth in max_depth_values:\n",
        "    for min_samples_split in min_samples_split_values:\n",
        "        for min_samples_leaf in min_samples_leaf_values:\n",
        "            decision_tree_classifier = DecisionTreeClassifier(\n",
        "                random_state=42,\n",
        "                max_depth=max_depth,\n",
        "                min_samples_split=min_samples_split,\n",
        "                min_samples_leaf=min_samples_leaf\n",
        "            )\n",
        "\n",
        "            # training\n",
        "            decision_tree_classifier.fit(X_train, y_train)\n",
        "\n",
        "            # prediction training data\n",
        "            y_train_pred = decision_tree_classifier.predict(X_train)\n",
        "\n",
        "            # accuracy training data\n",
        "            train_accuracy = accuracy_score(y_train, y_train_pred)\n",
        "\n",
        "            # prediction testing data\n",
        "            y_test_pred = decision_tree_classifier.predict(X_test)\n",
        "\n",
        "            # accuracy testing data\n",
        "            test_accuracy = accuracy_score(y_test, y_test_pred)\n",
        "\n",
        "            results_all_dt = results_all_dt.append({\"max_depth\": max_depth,\n",
        "                                            \"min_samples_split\": min_samples_split,\n",
        "                                            \"min_samples_leaf\": min_samples_leaf,\n",
        "                                            \"Train Accuracy\": train_accuracy,\n",
        "                                            \"Test Accuracy\": test_accuracy}, ignore_index=True)\n",
        "\n",
        "table_result_dt = tabulate(results_all_dt, headers='keys', tablefmt='pretty', showindex=False)\n",
        "\n",
        "print(table_result_dt)"
      ],
      "metadata": {
        "colab": {
          "base_uri": "https://localhost:8080/"
        },
        "id": "kz20d1OvOtN6",
        "outputId": "bbb877a8-26a8-4eb8-8b99-f6843601869d"
      },
      "execution_count": null,
      "outputs": [
        {
          "output_type": "stream",
          "name": "stderr",
          "text": [
            "<ipython-input-98-872b0f4b98e3>:32: FutureWarning: The frame.append method is deprecated and will be removed from pandas in a future version. Use pandas.concat instead.\n",
            "  results_all_dt = results_all_dt.append({\"max_depth\": max_depth,\n",
            "<ipython-input-98-872b0f4b98e3>:32: FutureWarning: The frame.append method is deprecated and will be removed from pandas in a future version. Use pandas.concat instead.\n",
            "  results_all_dt = results_all_dt.append({\"max_depth\": max_depth,\n",
            "<ipython-input-98-872b0f4b98e3>:32: FutureWarning: The frame.append method is deprecated and will be removed from pandas in a future version. Use pandas.concat instead.\n",
            "  results_all_dt = results_all_dt.append({\"max_depth\": max_depth,\n",
            "<ipython-input-98-872b0f4b98e3>:32: FutureWarning: The frame.append method is deprecated and will be removed from pandas in a future version. Use pandas.concat instead.\n",
            "  results_all_dt = results_all_dt.append({\"max_depth\": max_depth,\n",
            "<ipython-input-98-872b0f4b98e3>:32: FutureWarning: The frame.append method is deprecated and will be removed from pandas in a future version. Use pandas.concat instead.\n",
            "  results_all_dt = results_all_dt.append({\"max_depth\": max_depth,\n",
            "<ipython-input-98-872b0f4b98e3>:32: FutureWarning: The frame.append method is deprecated and will be removed from pandas in a future version. Use pandas.concat instead.\n",
            "  results_all_dt = results_all_dt.append({\"max_depth\": max_depth,\n",
            "<ipython-input-98-872b0f4b98e3>:32: FutureWarning: The frame.append method is deprecated and will be removed from pandas in a future version. Use pandas.concat instead.\n",
            "  results_all_dt = results_all_dt.append({\"max_depth\": max_depth,\n",
            "<ipython-input-98-872b0f4b98e3>:32: FutureWarning: The frame.append method is deprecated and will be removed from pandas in a future version. Use pandas.concat instead.\n",
            "  results_all_dt = results_all_dt.append({\"max_depth\": max_depth,\n",
            "<ipython-input-98-872b0f4b98e3>:32: FutureWarning: The frame.append method is deprecated and will be removed from pandas in a future version. Use pandas.concat instead.\n",
            "  results_all_dt = results_all_dt.append({\"max_depth\": max_depth,\n",
            "<ipython-input-98-872b0f4b98e3>:32: FutureWarning: The frame.append method is deprecated and will be removed from pandas in a future version. Use pandas.concat instead.\n",
            "  results_all_dt = results_all_dt.append({\"max_depth\": max_depth,\n",
            "<ipython-input-98-872b0f4b98e3>:32: FutureWarning: The frame.append method is deprecated and will be removed from pandas in a future version. Use pandas.concat instead.\n",
            "  results_all_dt = results_all_dt.append({\"max_depth\": max_depth,\n",
            "<ipython-input-98-872b0f4b98e3>:32: FutureWarning: The frame.append method is deprecated and will be removed from pandas in a future version. Use pandas.concat instead.\n",
            "  results_all_dt = results_all_dt.append({\"max_depth\": max_depth,\n",
            "<ipython-input-98-872b0f4b98e3>:32: FutureWarning: The frame.append method is deprecated and will be removed from pandas in a future version. Use pandas.concat instead.\n",
            "  results_all_dt = results_all_dt.append({\"max_depth\": max_depth,\n",
            "<ipython-input-98-872b0f4b98e3>:32: FutureWarning: The frame.append method is deprecated and will be removed from pandas in a future version. Use pandas.concat instead.\n",
            "  results_all_dt = results_all_dt.append({\"max_depth\": max_depth,\n",
            "<ipython-input-98-872b0f4b98e3>:32: FutureWarning: The frame.append method is deprecated and will be removed from pandas in a future version. Use pandas.concat instead.\n",
            "  results_all_dt = results_all_dt.append({\"max_depth\": max_depth,\n",
            "<ipython-input-98-872b0f4b98e3>:32: FutureWarning: The frame.append method is deprecated and will be removed from pandas in a future version. Use pandas.concat instead.\n",
            "  results_all_dt = results_all_dt.append({\"max_depth\": max_depth,\n",
            "<ipython-input-98-872b0f4b98e3>:32: FutureWarning: The frame.append method is deprecated and will be removed from pandas in a future version. Use pandas.concat instead.\n",
            "  results_all_dt = results_all_dt.append({\"max_depth\": max_depth,\n",
            "<ipython-input-98-872b0f4b98e3>:32: FutureWarning: The frame.append method is deprecated and will be removed from pandas in a future version. Use pandas.concat instead.\n",
            "  results_all_dt = results_all_dt.append({\"max_depth\": max_depth,\n",
            "<ipython-input-98-872b0f4b98e3>:32: FutureWarning: The frame.append method is deprecated and will be removed from pandas in a future version. Use pandas.concat instead.\n",
            "  results_all_dt = results_all_dt.append({\"max_depth\": max_depth,\n",
            "<ipython-input-98-872b0f4b98e3>:32: FutureWarning: The frame.append method is deprecated and will be removed from pandas in a future version. Use pandas.concat instead.\n",
            "  results_all_dt = results_all_dt.append({\"max_depth\": max_depth,\n",
            "<ipython-input-98-872b0f4b98e3>:32: FutureWarning: The frame.append method is deprecated and will be removed from pandas in a future version. Use pandas.concat instead.\n",
            "  results_all_dt = results_all_dt.append({\"max_depth\": max_depth,\n",
            "<ipython-input-98-872b0f4b98e3>:32: FutureWarning: The frame.append method is deprecated and will be removed from pandas in a future version. Use pandas.concat instead.\n",
            "  results_all_dt = results_all_dt.append({\"max_depth\": max_depth,\n",
            "<ipython-input-98-872b0f4b98e3>:32: FutureWarning: The frame.append method is deprecated and will be removed from pandas in a future version. Use pandas.concat instead.\n",
            "  results_all_dt = results_all_dt.append({\"max_depth\": max_depth,\n",
            "<ipython-input-98-872b0f4b98e3>:32: FutureWarning: The frame.append method is deprecated and will be removed from pandas in a future version. Use pandas.concat instead.\n",
            "  results_all_dt = results_all_dt.append({\"max_depth\": max_depth,\n",
            "<ipython-input-98-872b0f4b98e3>:32: FutureWarning: The frame.append method is deprecated and will be removed from pandas in a future version. Use pandas.concat instead.\n",
            "  results_all_dt = results_all_dt.append({\"max_depth\": max_depth,\n",
            "<ipython-input-98-872b0f4b98e3>:32: FutureWarning: The frame.append method is deprecated and will be removed from pandas in a future version. Use pandas.concat instead.\n",
            "  results_all_dt = results_all_dt.append({\"max_depth\": max_depth,\n"
          ]
        },
        {
          "output_type": "stream",
          "name": "stdout",
          "text": [
            "+-----------+-------------------+------------------+---------------------+---------------------+\n",
            "| max_depth | min_samples_split | min_samples_leaf |   Train Accuracy    |    Test Accuracy    |\n",
            "+-----------+-------------------+------------------+---------------------+---------------------+\n",
            "|    5.0    |        2.0        |       1.0        | 0.0777328796256912  | 0.05442176870748299 |\n",
            "|    5.0    |        2.0        |       2.0        | 0.07741386643981285 | 0.05357142857142857 |\n",
            "|    5.0    |        2.0        |       4.0        | 0.07730752871118673 | 0.05442176870748299 |\n",
            "|    5.0    |        5.0        |       1.0        | 0.0777328796256912  | 0.05442176870748299 |\n",
            "|    5.0    |        5.0        |       2.0        | 0.07741386643981285 | 0.05357142857142857 |\n",
            "|    5.0    |        5.0        |       4.0        | 0.07730752871118673 | 0.05442176870748299 |\n",
            "|    5.0    |       10.0        |       1.0        | 0.0777328796256912  | 0.05442176870748299 |\n",
            "|    5.0    |       10.0        |       2.0        | 0.07741386643981285 | 0.05357142857142857 |\n",
            "|    5.0    |       10.0        |       4.0        | 0.07730752871118673 | 0.05442176870748299 |\n",
            "|   10.0    |        2.0        |       1.0        | 0.22075712462781796 | 0.15178571428571427 |\n",
            "|   10.0    |        2.0        |       2.0        | 0.21225010633772862 | 0.14668367346938777 |\n",
            "|   10.0    |        2.0        |       4.0        | 0.20406210123351765 | 0.15093537414965985 |\n",
            "|   10.0    |        5.0        |       1.0        | 0.21437686091025096 | 0.15008503401360543 |\n",
            "|   10.0    |        5.0        |       2.0        | 0.2113994045087197  | 0.14923469387755103 |\n",
            "|   10.0    |        5.0        |       4.0        | 0.20406210123351765 | 0.15093537414965985 |\n",
            "|   10.0    |       10.0        |       1.0        | 0.2082092726499362  | 0.15008503401360543 |\n",
            "|   10.0    |       10.0        |       2.0        | 0.20597618034878776 | 0.14923469387755103 |\n",
            "|   10.0    |       10.0        |       4.0        | 0.20267971076137814 | 0.15008503401360543 |\n",
            "|   15.0    |        2.0        |       1.0        | 0.4172692471288813  | 0.23001700680272108 |\n",
            "|   15.0    |        2.0        |       2.0        | 0.37632922160782645 | 0.22406462585034015 |\n",
            "|   15.0    |        2.0        |       4.0        | 0.3423011484474692  | 0.23129251700680273 |\n",
            "|   15.0    |        5.0        |       1.0        |  0.382284134410889  | 0.2274659863945578  |\n",
            "|   15.0    |        5.0        |       2.0        | 0.37058698426201614 | 0.22406462585034015 |\n",
            "|   15.0    |        5.0        |       4.0        | 0.3423011484474692  | 0.23129251700680273 |\n",
            "|   15.0    |       10.0        |       1.0        | 0.35516801361122924 | 0.22831632653061223 |\n",
            "|   15.0    |       10.0        |       2.0        | 0.3481497235219056  | 0.22704081632653061 |\n",
            "|   15.0    |       10.0        |       4.0        | 0.33719693747341556 | 0.23171768707482993 |\n",
            "+-----------+-------------------+------------------+---------------------+---------------------+\n"
          ]
        },
        {
          "output_type": "stream",
          "name": "stderr",
          "text": [
            "<ipython-input-98-872b0f4b98e3>:32: FutureWarning: The frame.append method is deprecated and will be removed from pandas in a future version. Use pandas.concat instead.\n",
            "  results_all_dt = results_all_dt.append({\"max_depth\": max_depth,\n"
          ]
        }
      ]
    },
    {
      "cell_type": "markdown",
      "source": [
        "According to the hyperparameters, this is the best model\n",
        "* max_depth = 15.0\n",
        "* min_samples_split = 2.0\n",
        "* min_samples_leaf = 1.0\n",
        "\n",
        "* accuracy values:\n",
        "\n",
        "* Train Accuracy: 0.4172692471288813\n",
        "* Test Accuracy: 0.23001700680272108"
      ],
      "metadata": {
        "id": "SuvS_7oCRYhg"
      }
    },
    {
      "cell_type": "code",
      "source": [
        "# model with best hyperparameters\n",
        "decision_tree_classifier_hyper = DecisionTreeClassifier(\n",
        "    random_state=42,\n",
        "    max_depth=15,\n",
        "    min_samples_split=2,\n",
        "    min_samples_leaf=1\n",
        ")\n",
        "\n",
        "# Training the model with hyperparameters\n",
        "decision_tree_classifier_hyper.fit(X_train, y_train)\n",
        "\n",
        "y_train_pred_dt_hyper = decision_tree_classifier_hyper.predict(X_train)\n",
        "y_test_pred_dt_hyper = decision_tree_classifier_hyper.predict(X_test)\n",
        "\n",
        "train_accuracy_dt_hyper = accuracy_score(y_train, y_train_pred_dt_hyper)\n",
        "test_accuracy_dt_hyper = accuracy_score(y_test, y_test_pred_dt_hyper)\n"
      ],
      "metadata": {
        "id": "cDyVFGv-RYAR"
      },
      "execution_count": null,
      "outputs": []
    },
    {
      "cell_type": "code",
      "source": [
        "print(\"------> Decision Tree Model with Hyperparameters:\")\n",
        "print(\"Training Accuracy (With Hyperparameters):\", train_accuracy_dt_hyper)\n",
        "print(\"Testing Accuracy (With Hyperparameters):\", test_accuracy_dt_hyper)"
      ],
      "metadata": {
        "colab": {
          "base_uri": "https://localhost:8080/"
        },
        "id": "eXeckjxRRYDy",
        "outputId": "a87844a4-37ad-4e52-b783-a9437c4340d5"
      },
      "execution_count": null,
      "outputs": [
        {
          "output_type": "stream",
          "name": "stdout",
          "text": [
            "------> Decision Tree Model with Hyperparameters:\n",
            "Training Accuracy (With Hyperparameters): 0.4172692471288813\n",
            "Testing Accuracy (With Hyperparameters): 0.23001700680272108\n"
          ]
        }
      ]
    },
    {
      "cell_type": "markdown",
      "source": [],
      "metadata": {
        "id": "zvAs_zTJRYO6"
      }
    },
    {
      "cell_type": "markdown",
      "source": [
        "Compare the performance of the Random Forest, KNN, and Decision Tree models and report their accuracies."
      ],
      "metadata": {
        "id": "fXMmBnEi_xl0"
      }
    },
    {
      "cell_type": "code",
      "source": [
        "# Print the test accuracies for all three models\n",
        "print(\"----------> Random Forest\")\n",
        "print(\"Random Forest Training Accuracy:\", train_accuracy)\n",
        "print(\"Random Forest Test Accuracy:\", test_accuracy)\n",
        "print(\"\")\n",
        "\n",
        "print(\"----------> KNN\")\n",
        "print(\"KNN Training Accuracy:\", train_accuracy_knn)\n",
        "print(\"KNN Test Accuracy:\", test_accuracy_knn)\n",
        "print(\"\")\n",
        "\n",
        "print(\"----------> Decision Tree\")\n",
        "print(\"Decision Tree Training Accuracy:\", train_accuracy_dt)\n",
        "print(\"Decision Tree Test Accuracy:\", test_accuracy_dt)\n",
        "print(\"\")\n",
        "\n",
        "print(\"----------> Decision Tree with Hyperparameters\")\n",
        "print(\"Decision Tree Training hyper Accuracy:\", train_accuracy_dt_hyper)\n",
        "print(\"Decision Tree Test hyper Accuracy:\", test_accuracy_dt_hyper)\n"
      ],
      "metadata": {
        "colab": {
          "base_uri": "https://localhost:8080/"
        },
        "id": "3SX9YJBI_1eI",
        "outputId": "891d46ec-acb4-468e-a8bf-b071dd900b5b"
      },
      "execution_count": null,
      "outputs": [
        {
          "output_type": "stream",
          "name": "stdout",
          "text": [
            "----------> Random Forest\n",
            "Random Forest Training Accuracy: 0.33719693747341556\n",
            "Random Forest Test Accuracy: 0.23171768707482993\n",
            "\n",
            "----------> KNN\n",
            "KNN Training Accuracy: 0.45714589536367506\n",
            "KNN Test Accuracy: 0.3307823129251701\n",
            "\n",
            "----------> Decision Tree\n",
            "Decision Tree Training Accuracy: 1.0\n",
            "Decision Tree Test Accuracy: 0.2699829931972789\n",
            "\n",
            "----------> Decision Tree with Hyperparameters\n",
            "Decision Tree Training hyper Accuracy: 0.4172692471288813\n",
            "Decision Tree Test hyper Accuracy: 0.23001700680272108\n"
          ]
        }
      ]
    },
    {
      "cell_type": "markdown",
      "source": [
        "Comments:\n",
        "\n",
        "* Random Forest\n",
        "\n",
        "\n",
        "The Random Forest model exhibits a high training accuracy that can be considered (overfitting) specially because the test data have a low acuracy, but its testing accuracy is the highest among the three models when comparing the other models.\n",
        "\n",
        "\n",
        "* K-nearest neighbors (KNN)\n",
        "\n",
        "\n",
        "The KNN model has moderate training accuracy and slightly lower testing accuracy than Random Forest. This suggests that KNN may not be the best choice for this dataset.\n",
        "\n",
        "\n",
        "* Decision tree\n",
        "\n",
        "\n",
        "The Decision Tree model demonstrates high training accuracy that can be considered (overfitting) and lower testing accuracy among the three models, indicating poor generalization.\n",
        "\n",
        "\n",
        "* Decision Tree with hyperparameters\n",
        "\n",
        "The Decision Tree model with hyperparameters shows improved testing accuracy compared to the Decision Tree without hyperparameters and we can't see overfitting. However, it still behind the Random Forest and KNN models in terms of testing accuracy.\n"
      ],
      "metadata": {
        "id": "Bl_k3iouAiXP"
      }
    },
    {
      "cell_type": "markdown",
      "source": [
        "## Question 6 Cross-Validation"
      ],
      "metadata": {
        "id": "ziYUSXQfJd_4"
      }
    },
    {
      "cell_type": "code",
      "source": [
        "# Define the models (assuming you've already trained them)\n",
        "models = [\n",
        "    (\"Random Forest\", rf_classifier),\n",
        "    (\"KNN\", knn_classifier),\n",
        "    (\"Decision Tree\", decision_tree_classifier),\n",
        "    (\"Decision Tree hyperparameter\", decision_tree_classifier_hyper),\n",
        "\n",
        "]\n",
        "\n",
        "#  5-fold cross-validation for each model\n",
        "for model_name, model in models:\n",
        "    cross_val_scores = cross_val_score(model, X_train, y_train, cv=5, scoring='accuracy')\n",
        "\n",
        "    # average accuracy and standard deviation\n",
        "    avg_accuracy = np.mean(cross_val_scores)\n",
        "    std_accuracy = np.std(cross_val_scores)\n",
        "\n",
        "    print(f\"Model: {model_name}\")\n",
        "    print(f\"Average Accuracy: {avg_accuracy:.4f}\")\n",
        "    print(f\"Standard Deviation: {std_accuracy:.4f}\")\n",
        "    print()"
      ],
      "metadata": {
        "colab": {
          "base_uri": "https://localhost:8080/"
        },
        "id": "hZLUxktfBdzm",
        "outputId": "800c61b1-8047-4928-c9df-4ca225bd075f"
      },
      "execution_count": null,
      "outputs": [
        {
          "output_type": "stream",
          "name": "stdout",
          "text": [
            "Model: Random Forest\n",
            "Average Accuracy: 0.4547\n",
            "Standard Deviation: 0.0095\n",
            "\n",
            "Model: KNN\n",
            "Average Accuracy: 0.3199\n",
            "Standard Deviation: 0.0083\n",
            "\n",
            "Model: Decision Tree\n",
            "Average Accuracy: 0.2202\n",
            "Standard Deviation: 0.0081\n",
            "\n",
            "Model: Decision Tree hyperparameter\n",
            "Average Accuracy: 0.2148\n",
            "Standard Deviation: 0.0092\n",
            "\n"
          ]
        }
      ]
    },
    {
      "cell_type": "markdown",
      "source": [
        "The Random Forest model has the highest average accuracy, followed by KNN. Both Decision Tree models have lower average accuracies, with the Decision Tree without hyperparameters having a slightly higher average accuracy.\n",
        "\n",
        "\\\n",
        "The lower standard deviations indicate that there was not much difference in cross validation, the performance was constant and consistent.\n",
        "\n",
        "\\\n",
        "\n",
        "Evaluating the models, Random Forest appears to be the best based on average accuracy and lowest standard deviation"
      ],
      "metadata": {
        "id": "Mv3-tQKYUFst"
      }
    },
    {
      "cell_type": "markdown",
      "source": [
        "## Question 7 Hyperparameter Tuning"
      ],
      "metadata": {
        "id": "QEr_lny9Jjij"
      }
    },
    {
      "cell_type": "code",
      "source": [
        "# # parameter grid for max_features(5 to 50 in steps of 5) and n_estimators( 10 to 200 in steps of 10)\n",
        "# # takes a LONG time to execute\n",
        "# param_grid = {\n",
        "#     'max_features': np.arange(5, 51, 5),\n",
        "#     'n_estimators': np.arange(10, 201, 10)\n",
        "# }"
      ],
      "metadata": {
        "id": "LjOPuClUCE_C"
      },
      "execution_count": null,
      "outputs": []
    },
    {
      "cell_type": "code",
      "source": [
        "# Reduced parameter grid for max_features and n_estimators\n",
        "param_grid = {\n",
        "    'max_features': [5, 10, 15, 20],\n",
        "    'n_estimators': [50, 100, 150]\n",
        "}"
      ],
      "metadata": {
        "id": "DWKd39hdFij-"
      },
      "execution_count": null,
      "outputs": []
    },
    {
      "cell_type": "code",
      "source": [
        "rf_classifier_2 = RandomForestClassifier(random_state=42)\n"
      ],
      "metadata": {
        "id": "cEHCRdMHClCn"
      },
      "execution_count": null,
      "outputs": []
    },
    {
      "cell_type": "code",
      "source": [
        "# create GridSearchCV\n",
        "grid_search = GridSearchCV(estimator=rf_classifier_2, param_grid=param_grid, cv=5, scoring='accuracy')\n",
        "\n",
        "# fit grid search to traning data\n",
        "grid_search.fit(X_train, y_train)\n"
      ],
      "metadata": {
        "colab": {
          "base_uri": "https://localhost:8080/",
          "height": 141
        },
        "id": "qO_rYHokCrwE",
        "outputId": "7663406f-ad0b-4e91-eff2-aa0bf6f97302"
      },
      "execution_count": null,
      "outputs": [
        {
          "output_type": "execute_result",
          "data": {
            "text/plain": [
              "GridSearchCV(cv=5, estimator=RandomForestClassifier(random_state=42),\n",
              "             param_grid={'max_features': [5, 10, 15, 20],\n",
              "                         'n_estimators': [50, 100, 150]},\n",
              "             scoring='accuracy')"
            ],
            "text/html": [
              "<style>#sk-container-id-1 {color: black;background-color: white;}#sk-container-id-1 pre{padding: 0;}#sk-container-id-1 div.sk-toggleable {background-color: white;}#sk-container-id-1 label.sk-toggleable__label {cursor: pointer;display: block;width: 100%;margin-bottom: 0;padding: 0.3em;box-sizing: border-box;text-align: center;}#sk-container-id-1 label.sk-toggleable__label-arrow:before {content: \"▸\";float: left;margin-right: 0.25em;color: #696969;}#sk-container-id-1 label.sk-toggleable__label-arrow:hover:before {color: black;}#sk-container-id-1 div.sk-estimator:hover label.sk-toggleable__label-arrow:before {color: black;}#sk-container-id-1 div.sk-toggleable__content {max-height: 0;max-width: 0;overflow: hidden;text-align: left;background-color: #f0f8ff;}#sk-container-id-1 div.sk-toggleable__content pre {margin: 0.2em;color: black;border-radius: 0.25em;background-color: #f0f8ff;}#sk-container-id-1 input.sk-toggleable__control:checked~div.sk-toggleable__content {max-height: 200px;max-width: 100%;overflow: auto;}#sk-container-id-1 input.sk-toggleable__control:checked~label.sk-toggleable__label-arrow:before {content: \"▾\";}#sk-container-id-1 div.sk-estimator input.sk-toggleable__control:checked~label.sk-toggleable__label {background-color: #d4ebff;}#sk-container-id-1 div.sk-label input.sk-toggleable__control:checked~label.sk-toggleable__label {background-color: #d4ebff;}#sk-container-id-1 input.sk-hidden--visually {border: 0;clip: rect(1px 1px 1px 1px);clip: rect(1px, 1px, 1px, 1px);height: 1px;margin: -1px;overflow: hidden;padding: 0;position: absolute;width: 1px;}#sk-container-id-1 div.sk-estimator {font-family: monospace;background-color: #f0f8ff;border: 1px dotted black;border-radius: 0.25em;box-sizing: border-box;margin-bottom: 0.5em;}#sk-container-id-1 div.sk-estimator:hover {background-color: #d4ebff;}#sk-container-id-1 div.sk-parallel-item::after {content: \"\";width: 100%;border-bottom: 1px solid gray;flex-grow: 1;}#sk-container-id-1 div.sk-label:hover label.sk-toggleable__label {background-color: #d4ebff;}#sk-container-id-1 div.sk-serial::before {content: \"\";position: absolute;border-left: 1px solid gray;box-sizing: border-box;top: 0;bottom: 0;left: 50%;z-index: 0;}#sk-container-id-1 div.sk-serial {display: flex;flex-direction: column;align-items: center;background-color: white;padding-right: 0.2em;padding-left: 0.2em;position: relative;}#sk-container-id-1 div.sk-item {position: relative;z-index: 1;}#sk-container-id-1 div.sk-parallel {display: flex;align-items: stretch;justify-content: center;background-color: white;position: relative;}#sk-container-id-1 div.sk-item::before, #sk-container-id-1 div.sk-parallel-item::before {content: \"\";position: absolute;border-left: 1px solid gray;box-sizing: border-box;top: 0;bottom: 0;left: 50%;z-index: -1;}#sk-container-id-1 div.sk-parallel-item {display: flex;flex-direction: column;z-index: 1;position: relative;background-color: white;}#sk-container-id-1 div.sk-parallel-item:first-child::after {align-self: flex-end;width: 50%;}#sk-container-id-1 div.sk-parallel-item:last-child::after {align-self: flex-start;width: 50%;}#sk-container-id-1 div.sk-parallel-item:only-child::after {width: 0;}#sk-container-id-1 div.sk-dashed-wrapped {border: 1px dashed gray;margin: 0 0.4em 0.5em 0.4em;box-sizing: border-box;padding-bottom: 0.4em;background-color: white;}#sk-container-id-1 div.sk-label label {font-family: monospace;font-weight: bold;display: inline-block;line-height: 1.2em;}#sk-container-id-1 div.sk-label-container {text-align: center;}#sk-container-id-1 div.sk-container {/* jupyter's `normalize.less` sets `[hidden] { display: none; }` but bootstrap.min.css set `[hidden] { display: none !important; }` so we also need the `!important` here to be able to override the default hidden behavior on the sphinx rendered scikit-learn.org. See: https://github.com/scikit-learn/scikit-learn/issues/21755 */display: inline-block !important;position: relative;}#sk-container-id-1 div.sk-text-repr-fallback {display: none;}</style><div id=\"sk-container-id-1\" class=\"sk-top-container\"><div class=\"sk-text-repr-fallback\"><pre>GridSearchCV(cv=5, estimator=RandomForestClassifier(random_state=42),\n",
              "             param_grid={&#x27;max_features&#x27;: [5, 10, 15, 20],\n",
              "                         &#x27;n_estimators&#x27;: [50, 100, 150]},\n",
              "             scoring=&#x27;accuracy&#x27;)</pre><b>In a Jupyter environment, please rerun this cell to show the HTML representation or trust the notebook. <br />On GitHub, the HTML representation is unable to render, please try loading this page with nbviewer.org.</b></div><div class=\"sk-container\" hidden><div class=\"sk-item sk-dashed-wrapped\"><div class=\"sk-label-container\"><div class=\"sk-label sk-toggleable\"><input class=\"sk-toggleable__control sk-hidden--visually\" id=\"sk-estimator-id-1\" type=\"checkbox\" ><label for=\"sk-estimator-id-1\" class=\"sk-toggleable__label sk-toggleable__label-arrow\">GridSearchCV</label><div class=\"sk-toggleable__content\"><pre>GridSearchCV(cv=5, estimator=RandomForestClassifier(random_state=42),\n",
              "             param_grid={&#x27;max_features&#x27;: [5, 10, 15, 20],\n",
              "                         &#x27;n_estimators&#x27;: [50, 100, 150]},\n",
              "             scoring=&#x27;accuracy&#x27;)</pre></div></div></div><div class=\"sk-parallel\"><div class=\"sk-parallel-item\"><div class=\"sk-item\"><div class=\"sk-label-container\"><div class=\"sk-label sk-toggleable\"><input class=\"sk-toggleable__control sk-hidden--visually\" id=\"sk-estimator-id-2\" type=\"checkbox\" ><label for=\"sk-estimator-id-2\" class=\"sk-toggleable__label sk-toggleable__label-arrow\">estimator: RandomForestClassifier</label><div class=\"sk-toggleable__content\"><pre>RandomForestClassifier(random_state=42)</pre></div></div></div><div class=\"sk-serial\"><div class=\"sk-item\"><div class=\"sk-estimator sk-toggleable\"><input class=\"sk-toggleable__control sk-hidden--visually\" id=\"sk-estimator-id-3\" type=\"checkbox\" ><label for=\"sk-estimator-id-3\" class=\"sk-toggleable__label sk-toggleable__label-arrow\">RandomForestClassifier</label><div class=\"sk-toggleable__content\"><pre>RandomForestClassifier(random_state=42)</pre></div></div></div></div></div></div></div></div></div></div>"
            ]
          },
          "metadata": {},
          "execution_count": 63
        }
      ]
    },
    {
      "cell_type": "code",
      "source": [
        "best_params = grid_search.best_params_\n",
        "print(\"Best Parameters:\", best_params)"
      ],
      "metadata": {
        "colab": {
          "base_uri": "https://localhost:8080/"
        },
        "id": "nZH6pEaMCzxe",
        "outputId": "eeb25072-8510-4b37-c00d-3a7981daed3d"
      },
      "execution_count": null,
      "outputs": [
        {
          "output_type": "stream",
          "name": "stdout",
          "text": [
            "Best Parameters: {'max_features': 10, 'n_estimators': 150}\n"
          ]
        }
      ]
    },
    {
      "cell_type": "code",
      "source": [
        "# Extract grid search results\n",
        "results = grid_search.cv_results_\n",
        "max_features_values = results['param_max_features']\n",
        "n_estimators_values = results['param_n_estimators']\n",
        "accuracies = results['mean_test_score']"
      ],
      "metadata": {
        "id": "FQaLZ1xJC3HH"
      },
      "execution_count": null,
      "outputs": []
    },
    {
      "cell_type": "code",
      "source": [
        "# Create a 3D  plot\n",
        "fig = plt.figure(figsize=(8, 8))\n",
        "ax = fig.add_subplot(111, projection='3d')\n",
        "ax.scatter(max_features_values, n_estimators_values, accuracies, c=accuracies, cmap='YlGnBu')\n",
        "\n",
        "# Set axis labels\n",
        "ax.set_xlabel('max_features')\n",
        "ax.set_ylabel('n_estimators')\n",
        "ax.set_zlabel('Accuracy')\n",
        "\n",
        "plt.title('Grid Search Results - 3D plot')\n",
        "plt.show()\n"
      ],
      "metadata": {
        "colab": {
          "base_uri": "https://localhost:8080/",
          "height": 675
        },
        "id": "8dcvt8X0US2q",
        "outputId": "670409a3-809a-4961-f5b1-8535070b68ae"
      },
      "execution_count": null,
      "outputs": [
        {
          "output_type": "display_data",
          "data": {
            "text/plain": [
              "<Figure size 800x800 with 1 Axes>"
            ],
            "image/png": "[encoded data removed]"
          },
          "metadata": {}
        }
      ]
    },
    {
      "cell_type": "code",
      "source": [
        "# best parameters\n",
        "best_max_features = best_params['max_features']\n",
        "best_n_estimators = best_params['n_estimators']\n",
        "\n",
        "rf_classifier_optimized = RandomForestClassifier(max_features=best_max_features, n_estimators=best_n_estimators, random_state=42)\n",
        "rf_classifier_optimized.fit(X_train, y_train)\n",
        "\n",
        "# predict\n",
        "y_train_pred_rf_optimized = rf_classifier_optimized.predict(X_train)\n",
        "y_test_pred_rf_optimized = rf_classifier_optimized.predict(X_test)\n",
        "\n",
        "# Calculate the accuracy of the optimized Random Forest model\n",
        "accuracy_rf_optimized_train = accuracy_score(y_train, y_train_pred_rf_optimized)\n",
        "accuracy_rf_optimized_test = accuracy_score(y_test, y_test_pred_rf_optimized)"
      ],
      "metadata": {
        "id": "xvPrlxqiC4ry"
      },
      "execution_count": null,
      "outputs": []
    },
    {
      "cell_type": "code",
      "source": [
        "# Output the test results for the optimized model\n",
        "print(\"Optimized Random Forest Train Accuracy:\", accuracy_rf_optimized_train)\n",
        "print(\"Optimized Random Forest Test Accuracy:\", accuracy_rf_optimized_test)"
      ],
      "metadata": {
        "colab": {
          "base_uri": "https://localhost:8080/"
        },
        "id": "UbNH2tH_HvZd",
        "outputId": "37a95088-56f8-4c4f-8e84-38a6bd6b2ae5"
      },
      "execution_count": null,
      "outputs": [
        {
          "output_type": "stream",
          "name": "stdout",
          "text": [
            "Optimized Random Forest Train Accuracy: 1.0\n",
            "Optimized Random Forest Test Accuracy: 0.46938775510204084\n"
          ]
        }
      ]
    },
    {
      "cell_type": "markdown",
      "source": [
        "## Question 8 Stacking Ensemble"
      ],
      "metadata": {
        "id": "DRj0ZpOTIqEH"
      }
    },
    {
      "cell_type": "code",
      "source": [
        "# Initialize base learners\n",
        "base_learners = [\n",
        "    ('DecisionTree', DecisionTreeClassifier(random_state=42)),\n",
        "    ('KNN', KNeighborsClassifier()),\n",
        "    ('SVM', SVC(kernel='linear', random_state=42))\n",
        "]\n",
        "\n",
        "# init stacking ensemble with a random forest as the meta-model\n",
        "stacking_ensemble = RandomForestClassifier(random_state=42)\n",
        "\n",
        "# Train base learners on the training data\n",
        "for learner_name, learner_model in base_learners:\n",
        "    learner_model.fit(X_train, y_train)\n",
        "\n",
        "# predictions from base learners for training and test data\n",
        "train_predictions = []\n",
        "test_predictions = []\n",
        "for learner_name, learner_model in base_learners:\n",
        "    train_predictions.append(learner_model.predict(X_train))\n",
        "    test_predictions.append(learner_model.predict(X_test))\n",
        "\n",
        "#  predictions for training and test data\n",
        "X_train_stacked = np.column_stack(train_predictions)\n",
        "X_test_stacked = np.column_stack(test_predictions)\n",
        "\n",
        "# train the meta-model on the stacked features\n",
        "stacking_ensemble.fit(X_train_stacked, y_train)\n",
        "\n",
        "#  predictions on the test data using the stacking ensemble\n",
        "y_test_pred_stacking = stacking_ensemble.predict(X_test_stacked)\n",
        "\n",
        "# accuracy of the stacking ensemble on the test data\n",
        "accuracy_stacking = accuracy_score(y_test, y_test_pred_stacking)\n",
        "\n",
        "print(\"Stacking Ensemble Test Accuracy:\", accuracy_stacking)\n"
      ],
      "metadata": {
        "colab": {
          "base_uri": "https://localhost:8080/"
        },
        "id": "pE_s0TSoISQJ",
        "outputId": "05866a60-9511-4d1a-bd9b-fcc6392f1ebd"
      },
      "execution_count": null,
      "outputs": [
        {
          "output_type": "stream",
          "name": "stdout",
          "text": [
            "Stacking Ensemble Test Accuracy: 0.3494897959183674\n"
          ]
        }
      ]
    },
    {
      "cell_type": "code",
      "source": [
        "all_results = [\n",
        "    [\"Random Forest \", test_accuracy],\n",
        "    [\"Random Forest Optimized\", accuracy_rf_optimized_test],\n",
        "    [\"KNN\", test_accuracy_knn],\n",
        "    [\"Decision Tree\", test_accuracy_dt],\n",
        "    [\"Decision Tree with hyperp\", test_accuracy_dt_hyper],\n",
        "    [\"Stacking Ensemble\", accuracy_stacking]\n",
        "]\n",
        "\n",
        "# Create a table with the results\n",
        "table = tabulate(all_results, headers=[\"Model\", \"Test Accuracy\"], tablefmt=\"grid\")\n",
        "\n",
        "# Display the table\n",
        "print(table)\n"
      ],
      "metadata": {
        "colab": {
          "base_uri": "https://localhost:8080/"
        },
        "id": "yqSENiAtKlFn",
        "outputId": "9bde59b5-d35a-4ac9-ec96-2a0de0b6a6eb"
      },
      "execution_count": null,
      "outputs": [
        {
          "output_type": "stream",
          "name": "stdout",
          "text": [
            "+---------------------------+-----------------+\n",
            "| Model                     |   Test Accuracy |\n",
            "+===========================+=================+\n",
            "| Random Forest             |        0.231718 |\n",
            "+---------------------------+-----------------+\n",
            "| Random Forest Optimized   |        0.469388 |\n",
            "+---------------------------+-----------------+\n",
            "| KNN                       |        0.330782 |\n",
            "+---------------------------+-----------------+\n",
            "| Decision Tree             |        0.269983 |\n",
            "+---------------------------+-----------------+\n",
            "| Decision Tree with hyperp |        0.230017 |\n",
            "+---------------------------+-----------------+\n",
            "| Stacking Ensemble         |        0.34949  |\n",
            "+---------------------------+-----------------+\n"
          ]
        }
      ]
    }
  ]
}